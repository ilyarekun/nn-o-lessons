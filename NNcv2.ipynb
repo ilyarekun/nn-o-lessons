{
  "cells": [
    {
      "cell_type": "code",
      "execution_count": null,
      "metadata": {
        "id": "huAZYdxj3KaM"
      },
      "outputs": [],
      "source": [
        "import numpy as np\n",
        "\n",
        "def initialize_parameters(input_dim):\n",
        "    \"\"\"Initialize the perceptron weights and bias.\"\"\"\n",
        "    np.random.seed(42)\n",
        "    weights = np.random.rand(input_dim)  # TODO: Initialize weights randomly\n",
        "    bias = np.random.rand()  # TODO: Initialize bias randomly\n",
        "    return weights, bias\n",
        "\n",
        "def step_function(z):\n",
        "    \"\"\"Step activation function.\"\"\"\n",
        "    if z >= 0:\n",
        "        return 1\n",
        "    return 0  # TODO: Implement step function\n",
        "\n",
        "def perceptron_forward(x, weights, bias, activation_func=step_function):\n",
        "    \"\"\"Compute the perceptron output.\"\"\"\n",
        "    z = np.dot(x, weights) + bias  # TODO: Compute weighted sum\n",
        "    output = activation_func(z)  # TODO: Apply activation function\n",
        "    return output\n",
        "\n",
        "def train_perceptron(X, y_true, learning_rate=0.01, epochs=10):\n",
        "    \"\"\"Train the perceptron using the perceptron learning rule.\"\"\"\n",
        "    input_dim = X.shape[1]\n",
        "    weights, bias = initialize_parameters(input_dim)\n",
        "\n",
        "    for epoch in range(epochs):\n",
        "        for xi, target in zip(X, y_true):\n",
        "            output = perceptron_forward(xi, weights, bias)\n",
        "            error = target-output  # TODO: Compute error\n",
        "            weights += error * learning_rate * xi   # TODO: Update weights\n",
        "            bias += error * learning_rate  # TODO: Update bias\n",
        "        print(f\"Epoch {epoch+1} completed.\")\n",
        "\n",
        "    return weights, bias\n",
        "\n",
        "# TODO: Define input dataset and labels\n",
        "X =  np.array([[0,0], [0,1], [1,0], [1,1]])\n",
        "y =  np.array([0, 0, 0, 1])\n",
        "\n",
        "# TODO: Train perceptron\n",
        "weights, bias = train_perceptron(X, y)\n",
        "\n",
        "\n",
        "# TODO: Test perceptron\n",
        "test_sample = np.array([1, 1])\n",
        "prediction = perceptron_forward(test_sample, weights, bias)\n",
        "print(f\"Prediction for {test_sample}: {prediction}\")\n"
      ]
    },
    {
      "cell_type": "code",
      "execution_count": null,
      "metadata": {},
      "outputs": [],
      "source": [
        "print(weights, bias)"
      ]
    }
  ],
  "metadata": {
    "colab": {
      "provenance": []
    },
    "kernelspec": {
      "display_name": "venv",
      "language": "python",
      "name": "python3"
    },
    "language_info": {
      "codemirror_mode": {
        "name": "ipython",
        "version": 3
      },
      "file_extension": ".py",
      "mimetype": "text/x-python",
      "name": "python",
      "nbconvert_exporter": "python",
      "pygments_lexer": "ipython3",
      "version": "3.13.2"
    }
  },
  "nbformat": 4,
  "nbformat_minor": 0
}
