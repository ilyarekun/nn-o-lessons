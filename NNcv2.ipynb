{
  "nbformat": 4,
  "nbformat_minor": 0,
  "metadata": {
    "colab": {
      "provenance": []
    },
    "kernelspec": {
      "name": "python3",
      "display_name": "Python 3"
    },
    "language_info": {
      "name": "python"
    }
  },
  "cells": [
    {
      "cell_type": "code",
      "source": [
        "import numpy as np\n",
        "\n",
        "def initialize_parameters(input_dim):\n",
        "    \"\"\"Initialize the perceptron weights and bias.\"\"\"\n",
        "    weights = None  # TODO: Initialize weights randomly\n",
        "    bias = None  # TODO: Initialize bias randomly\n",
        "    return weights, bias\n",
        "\n",
        "def step_function(z):\n",
        "    \"\"\"Step activation function.\"\"\"\n",
        "    return None  # TODO: Implement step function\n",
        "\n",
        "def perceptron_forward(x, weights, bias, activation_func=step_function):\n",
        "    \"\"\"Compute the perceptron output.\"\"\"\n",
        "    z = None  # TODO: Compute weighted sum\n",
        "    output = None  # TODO: Apply activation function\n",
        "    return output\n",
        "\n",
        "def train_perceptron(X, y_true, learning_rate=0.01, epochs=10):\n",
        "    \"\"\"Train the perceptron using the perceptron learning rule.\"\"\"\n",
        "    input_dim = X.shape[1]\n",
        "    weights, bias = initialize_parameters(input_dim)\n",
        "\n",
        "    for epoch in range(epochs):\n",
        "        for xi, target in zip(X, y_true):\n",
        "            output = perceptron_forward(xi, weights, bias)\n",
        "            error = None  # TODO: Compute error\n",
        "            weights += None  # TODO: Update weights\n",
        "            bias += None  # TODO: Update bias\n",
        "        print(f\"Epoch {epoch+1} completed.\")\n",
        "\n",
        "    return weights, bias\n",
        "\n",
        "# TODO: Define input dataset and labels\n",
        "X = None  # Example: np.array([[0,0], [0,1], [1,0], [1,1]])\n",
        "y = None  # Example: np.array([0, 0, 0, 1])\n",
        "\n",
        "# TODO: Train perceptron\n",
        "# weights, bias = train_perceptron(X, y)\n",
        "\n",
        "# TODO: Test perceptron\n",
        "# test_sample = np.array([1, 1])\n",
        "# prediction = perceptron_forward(test_sample, weights, bias)\n",
        "# print(f\"Prediction for {test_sample}: {prediction}\")\n"
      ],
      "metadata": {
        "id": "huAZYdxj3KaM"
      },
      "execution_count": null,
      "outputs": []
    }
  ]
}