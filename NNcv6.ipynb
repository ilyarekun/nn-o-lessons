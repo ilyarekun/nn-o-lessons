{
  "cells": [
    {
      "cell_type": "markdown",
      "id": "0c41a14d-7f3e-40d9-b6a3-8ec8892c8e4b",
      "metadata": {
        "id": "0c41a14d-7f3e-40d9-b6a3-8ec8892c8e4b"
      },
      "source": [
        "# PyTorch Tutorial\n",
        "\n",
        "## What is PyTorch?\n",
        "PyTorch is an **open-source deep learning framework** developed by Facebook AI Research (FAIR). It provides dynamic computation graphs, easy debugging, and a **Pythonic** interface, making it an ideal choice for both researchers and practitioners.\n",
        "\n",
        "### **Key Features of PyTorch:**\n",
        "- **Tensors**: Multi-dimensional arrays similar to NumPy but with GPU acceleration.\n",
        "- **Autograd**: Automatic differentiation for computing gradients.\n",
        "- **Neural Networks (torch.nn)**: A module for building deep learning models.\n",
        "- **Optimizers (torch.optim)**: Algorithms like SGD, Adam for model training.\n",
        "- **Dataset and DataLoader**: Tools for handling data efficiently.\n",
        "- **GPU Acceleration**: Seamless transition between CPU and GPU computations."
      ]
    },
    {
      "cell_type": "markdown",
      "id": "b1f8b3d0-96e4-4d70-9dcd-c0e8b2c1de7a",
      "metadata": {
        "id": "b1f8b3d0-96e4-4d70-9dcd-c0e8b2c1de7a"
      },
      "source": [
        "## 1. Installation and Setup\n",
        "\n",
        "Install PyTorch using pip (or conda):\n",
        "\n",
        "```bash\n",
        "pip install torch torchvision\n",
        "```"
      ]
    },
    {
      "cell_type": "code",
      "execution_count": 18,
      "id": "0f5e2ac2-1890-4f3d-8c97-6d9f9f1db5a3",
      "metadata": {
        "id": "0f5e2ac2-1890-4f3d-8c97-6d9f9f1db5a3"
      },
      "outputs": [
        {
          "name": "stdout",
          "output_type": "stream",
          "text": [
            "PyTorch version: 2.6.0+cu126\n",
            "CUDA available: True\n"
          ]
        }
      ],
      "source": [
        "import torch\n",
        "\n",
        "print(\"PyTorch version:\", torch.__version__)\n",
        "print(\"CUDA available:\", torch.cuda.is_available())"
      ]
    },
    {
      "cell_type": "markdown",
      "id": "43e3f0f9-14cf-412a-9e2e-62aee27537c9",
      "metadata": {
        "id": "43e3f0f9-14cf-412a-9e2e-62aee27537c9"
      },
      "source": [
        "### Exercise 1\n",
        "\n",
        "- Verify your installation by printing the computation device (CPU/GPU)."
      ]
    },
    {
      "cell_type": "markdown",
      "id": "3dd2ad18",
      "metadata": {
        "id": "3dd2ad18"
      },
      "source": [
        "## 2. PyTorch Tensor Basics"
      ]
    },
    {
      "cell_type": "markdown",
      "id": "9815f443",
      "metadata": {
        "id": "9815f443"
      },
      "source": [
        "### **Understanding PyTorch Tensors**\n",
        "\n",
        "Tensors are the **building blocks of PyTorch**. They are similar to NumPy arrays but can run on **GPUs**.\n",
        "\n",
        "**Common Tensor Operations:**\n",
        "- Creating Tensors: `torch.tensor()`, `torch.zeros()`, `torch.ones()`, `torch.rand()`\n",
        "- Reshaping: `tensor.view()` or `tensor.reshape()`\n",
        "- Mathematical Operations: `+`, `-`, `*`, `matmul()`, etc.\n"
      ]
    },
    {
      "cell_type": "markdown",
      "id": "4d4b0c8d",
      "metadata": {
        "id": "4d4b0c8d"
      },
      "source": [
        "### 1. Creating Tensors\n",
        "\n",
        "Below are different ways to create tensors in PyTorch:\n",
        "- `torch.tensor()` - Creates a tensor with specific values.\n",
        "- `torch.zeros()` - Creates a tensor filled with zeros.\n",
        "- `torch.ones()` - Creates a tensor filled with ones.\n",
        "- `torch.rand()` - Creates a tensor with random values."
      ]
    },
    {
      "cell_type": "markdown",
      "id": "f90d14af",
      "metadata": {
        "id": "f90d14af"
      },
      "source": [
        "### Exercise:\n"
      ]
    },
    {
      "cell_type": "code",
      "execution_count": 19,
      "id": "05ff8b86",
      "metadata": {
        "id": "05ff8b86"
      },
      "outputs": [
        {
          "name": "stdout",
          "output_type": "stream",
          "text": [
            "\n",
            "Creating Tensors:\n",
            "Tensor 1: torch.Size([4])\n",
            "Tensor 2 (Zeros): tensor([[0., 0.],\n",
            "        [0., 0.]])\n",
            "Tensor 3 (Ones): tensor([[1., 1., 1.],\n",
            "        [1., 1., 1.],\n",
            "        [1., 1., 1.]])\n",
            "Tensor 4 (Random): tensor([[0.1332, 0.9346, 0.5936],\n",
            "        [0.8694, 0.5677, 0.7411]])\n"
          ]
        }
      ],
      "source": [
        "print(\"\\nCreating Tensors:\")\n",
        "# TODO: Create a tensor with values [1, 2, 3, 4] and print its shape.\n",
        "# TODO: Create a tensor of shape (2,2) filled with zeros.\n",
        "# TODO: Create a tensor of shape (3,3) filled with ones.\n",
        "# TODO: Generate a random tensor of shape (2,3) and print its values.\n",
        "tensor1 = torch.tensor([1,2,3,4])\n",
        "tensor2 = torch.zeros(2,2)\n",
        "tensor3 = torch.ones(3,3)\n",
        "tensor4 = torch.rand(2,3)\n",
        "print(\"Tensor 1:\", tensor1.shape)\n",
        "print(\"Tensor 2 (Zeros):\", tensor2)\n",
        "print(\"Tensor 3 (Ones):\", tensor3)\n",
        "print(\"Tensor 4 (Random):\", tensor4)"
      ]
    },
    {
      "cell_type": "markdown",
      "id": "ee8ad374",
      "metadata": {
        "id": "ee8ad374"
      },
      "source": [
        "### 2. Tensor Attributes\n",
        "Each tensor has attributes such as shape, data type, and device.\n",
        "\n",
        "The **shape** of a tensor represents its dimensions (number of rows and columns, or more in higher-dimensional tensors).\n",
        "\n",
        "Every tensor has a **data type** that defines the type of values it holds.\n",
        "PyTorch supports different data types like *torch.float32, torch.int64, torch.bool*, etc. The default data type in PyTorch is **torch.float32**.\n",
        "\n",
        "Tensors can be stored either on the CPU or GPU."
      ]
    },
    {
      "cell_type": "code",
      "execution_count": 20,
      "id": "89ce2dc2",
      "metadata": {
        "id": "89ce2dc2"
      },
      "outputs": [
        {
          "name": "stdout",
          "output_type": "stream",
          "text": [
            "\n",
            "Tensor Attributes:\n",
            "torch.Size([4])\n",
            "torch.LongTensor\n",
            "tensor([1., 2., 3., 4.])\n",
            "cpu\n",
            "True\n",
            "cuda:0\n"
          ]
        }
      ],
      "source": [
        "print(\"\\nTensor Attributes:\")\n",
        "# TODO: Print tensor1 shape\n",
        "# TODO: Print tensor1 data type\n",
        "# TODO: Change tensor1 to other data type\n",
        "# TODO: Print tensor1 device\n",
        "# TODO: Move tensor1 to GPU (if available)\n",
        "print(tensor1.shape)\n",
        "print(tensor1.type())\n",
        "print(tensor1.float())\n",
        "print(tensor1.device)\n",
        "print(torch.cuda.is_available())\n",
        "device  = torch.device('cuda' if torch.cuda.is_available() else 'cpu')\n",
        "tensor1 = tensor1.to(device)\n",
        "print(tensor1.device)\n"
      ]
    },
    {
      "cell_type": "markdown",
      "id": "5a82f8a3",
      "metadata": {
        "id": "5a82f8a3"
      },
      "source": [
        "### 3. Tensor Operations\n",
        "Tensors support mathematical operations such as addition, multiplication, and matrix multiplication."
      ]
    },
    {
      "cell_type": "code",
      "execution_count": 21,
      "id": "077482c2",
      "metadata": {
        "id": "077482c2"
      },
      "outputs": [
        {
          "name": "stdout",
          "output_type": "stream",
          "text": [
            "\n",
            "Tensor Operations:\n",
            "tensor([2, 4, 6, 8], device='cuda:0')\n",
            "tensor([ 1,  4,  9, 16], device='cuda:0')\n",
            "tensor([[ 1.,  2.,  3.,  4.],\n",
            "        [ 2.,  4.,  6.,  8.],\n",
            "        [ 3.,  6.,  9., 12.],\n",
            "        [ 4.,  8., 12., 16.]], device='cuda:0')\n"
          ]
        }
      ],
      "source": [
        "print(\"\\nTensor Operations:\")\n",
        "# TODO: Add tensor1 to itself and store the result\n",
        "# TODO: Multiply tensor1 with itself and store the result\n",
        "# TODO: Perform matrix multiplication on tensor1 with itself and store the result\n",
        "# TODO: Print the results for addition, multiplication, and matrix multiplication\n",
        "tensor_d = tensor1 + tensor1\n",
        "tensor_mul = tensor1*tensor1\n",
        "tensor1_2d = tensor1.view(4,1).to(torch.float32)\n",
        "tensor_matmul = torch.matmul(tensor1_2d, tensor1_2d.T)\n",
        "print(tensor_d)\n",
        "print(tensor_mul)\n",
        "print(tensor_matmul)\n"
      ]
    },
    {
      "cell_type": "markdown",
      "id": "f28a7d22",
      "metadata": {
        "id": "f28a7d22"
      },
      "source": [
        "### 4. Reshaping Tensors\n",
        "Reshaping tensors is important for data manipulation in machine learning."
      ]
    },
    {
      "cell_type": "code",
      "execution_count": 22,
      "id": "caa4e405",
      "metadata": {
        "id": "caa4e405"
      },
      "outputs": [
        {
          "name": "stdout",
          "output_type": "stream",
          "text": [
            "\n",
            "Reshaping Tensors:\n",
            "tensor([[1, 2, 3],\n",
            "        [4, 5, 6],\n",
            "        [7, 8, 9]])\n",
            "tensor([[1],\n",
            "        [2],\n",
            "        [3],\n",
            "        [4],\n",
            "        [5],\n",
            "        [6],\n",
            "        [7],\n",
            "        [8],\n",
            "        [9]])\n",
            "tensor([[1, 2, 3, 4, 5, 6, 7, 8, 9]])\n"
          ]
        }
      ],
      "source": [
        "print(\"\\nReshaping Tensors:\")\n",
        "# TODO: Create a tensor with values from 1 to 9 using torch.arange\n",
        "tensor5 = torch.arange(1,10)\n",
        "# TODO: Reshape and print the tensor into a 3x3 matrix\n",
        "tensor5 = tensor5.view(3,3)\n",
        "print(tensor5)\n",
        "# TODO: Reshape the tensor into (1x9) and print it\n",
        "tensor5 = tensor5.view(9,1)\n",
        "print(tensor5)\n",
        "# TODO: Reshape the tensor into (9x1) and print it\n",
        "tensor5 = tensor5.view(1,9)\n",
        "print(tensor5)\n",
        "\n"
      ]
    },
    {
      "cell_type": "markdown",
      "id": "488d47d2",
      "metadata": {
        "id": "488d47d2"
      },
      "source": [
        "### 5. Exercises\n",
        "\n",
        "Use other methods to create tensor in PyTorch\n",
        "\n",
        "*torch.linspace(start, end, step)* is a function in PyTorch that creates a 1D tensor with  evenly spaced values between a specified start and end.\n",
        "\n",
        "*torch.arange(start, end, step)* creates a 1D tensor with a specific step size between values.\n",
        "\n",
        "*torch.full(size, fill_value)* creates a tensor filled with a specific value.\n",
        "\n",
        "*torch.eye(n)* creates an identity matrix with 1s on the diagonal.\n",
        "\n",
        "*torch.diag(tensor)* creates a diagonal matrix with elements of a given tensor along the diagonal.\n"
      ]
    },
    {
      "cell_type": "code",
      "execution_count": 23,
      "id": "-zCjMGO_Wv0Q",
      "metadata": {
        "id": "-zCjMGO_Wv0Q"
      },
      "outputs": [
        {
          "name": "stdout",
          "output_type": "stream",
          "text": [
            "tensor([ 1.0000,  3.2500,  5.5000,  7.7500, 10.0000])\n",
            "tensor([1, 3, 5, 7, 9])\n",
            "tensor([[7, 7, 7],\n",
            "        [7, 7, 7],\n",
            "        [7, 7, 7]])\n",
            "tensor([[1., 0., 0., 0.],\n",
            "        [0., 1., 0., 0.],\n",
            "        [0., 0., 1., 0.],\n",
            "        [0., 0., 0., 1.]])\n",
            "tensor([[1, 0, 0, 0],\n",
            "        [0, 2, 0, 0],\n",
            "        [0, 0, 3, 0],\n",
            "        [0, 0, 0, 4]])\n"
          ]
        }
      ],
      "source": [
        "# TODO: Create your own tensors using different methods in PyTorch.\n",
        "\n",
        "tensor1 = torch.linspace(1, 10, 5)\n",
        "print(tensor1)\n",
        "\n",
        "tensor2 = torch.arange(1, 10, 2)\n",
        "print(tensor2)\n",
        "\n",
        "tensor3 = torch.full((3, 3), 7)\n",
        "print(tensor3)\n",
        "\n",
        "tensor4 = torch.eye(4)\n",
        "print(tensor4)\n",
        "\n",
        "tensor5 = torch.diag(torch.tensor([1, 2, 3, 4]))\n",
        "print(tensor5)\n"
      ]
    },
    {
      "cell_type": "markdown",
      "id": "5c0bc38b",
      "metadata": {
        "id": "5c0bc38b"
      },
      "source": [
        "## 3. PyTorch Autograd Basics"
      ]
    },
    {
      "cell_type": "markdown",
      "id": "c9bd1a8a",
      "metadata": {
        "id": "c9bd1a8a"
      },
      "source": [
        "### **Understanding Autograd (Automatic Differentiation)**\n",
        "\n",
        "PyTorch’s **autograd** module enables automatic differentiation, essential for **backpropagation**.\n",
        "\n",
        "**Key Concepts:**\n",
        "- `requires_grad=True`: Enables tracking gradients for a tensor.\n",
        "- `tensor.backward()`: Computes the gradient w.r.t. tensor.\n",
        "- `tensor.grad`: Accesses the computed gradient.\n"
      ]
    },
    {
      "cell_type": "markdown",
      "id": "4e00b40d",
      "metadata": {
        "id": "4e00b40d"
      },
      "source": [
        "### 1. Introduction to Autograd\n",
        "\n",
        "PyTorch's `autograd` package provides automatic differentiation for all operations on Tensors. It is a crucial tool for training neural networks."
      ]
    },
    {
      "cell_type": "code",
      "execution_count": 24,
      "id": "05a205eb",
      "metadata": {
        "id": "05a205eb"
      },
      "outputs": [
        {
          "data": {
            "text/plain": [
              "<torch._C.Generator at 0x7d9917f5a950>"
            ]
          },
          "execution_count": 24,
          "metadata": {},
          "output_type": "execute_result"
        }
      ],
      "source": [
        "import torch\n",
        "\n",
        "# Enable autograd for computations\n",
        "torch.manual_seed(42)"
      ]
    },
    {
      "cell_type": "markdown",
      "id": "ed58d555",
      "metadata": {
        "id": "ed58d555"
      },
      "source": [
        "### 2. Creating Tensors with Gradient Tracking\n",
        "To enable gradient tracking, set `requires_grad=True` when creating a tensor."
      ]
    },
    {
      "cell_type": "code",
      "execution_count": 25,
      "id": "df8b6908",
      "metadata": {
        "id": "df8b6908"
      },
      "outputs": [
        {
          "name": "stdout",
          "output_type": "stream",
          "text": [
            "Tensor: tensor([[1., 2., 3., 4.]], requires_grad=True)\n"
          ]
        }
      ],
      "source": [
        "# TODO: Create a tensor with values [1, 2, 3, 4] and print its shape.\n",
        "x = torch.tensor([[1,2,3,4]],dtype=torch.float32, requires_grad=True)\n",
        "print(f'Tensor: {x}')"
      ]
    },
    {
      "cell_type": "markdown",
      "id": "f8c8b08d",
      "metadata": {
        "id": "f8c8b08d"
      },
      "source": [
        "### 3. Performing Operations\n",
        "Performing mathematical operations on tensors that have `requires_grad=True` automatically tracks these operations in the computation graph."
      ]
    },
    {
      "cell_type": "code",
      "execution_count": 26,
      "id": "e07f1fcf",
      "metadata": {
        "id": "e07f1fcf"
      },
      "outputs": [
        {
          "name": "stdout",
          "output_type": "stream",
          "text": [
            "Result: tensor([[ 9., 15., 23., 33.]], grad_fn=<AddBackward0>)\n"
          ]
        }
      ],
      "source": [
        "y = x**2 + 3*x + 5\n",
        "print(f'Result: {y}')"
      ]
    },
    {
      "cell_type": "markdown",
      "id": "8f32aa01",
      "metadata": {
        "id": "8f32aa01"
      },
      "source": [
        "### 4. Computing Gradients\n",
        "We compute the gradient of `y` with respect to `x` using `y.backward()`."
      ]
    },
    {
      "cell_type": "code",
      "execution_count": 27,
      "id": "25127888",
      "metadata": {
        "id": "25127888"
      },
      "outputs": [
        {
          "name": "stdout",
          "output_type": "stream",
          "text": [
            "Gradient of y with respect to x: tensor([[ 5.,  7.,  9., 11.]])\n"
          ]
        }
      ],
      "source": [
        "# TODO compute the gradient of y with respect to x using y.backward()\n",
        "y.sum().backward()\n",
        "print(f'Gradient of y with respect to x: {x.grad}')"
      ]
    },
    {
      "cell_type": "markdown",
      "id": "30833142",
      "metadata": {
        "id": "30833142"
      },
      "source": [
        "### 5. Disabling Gradient Tracking\n",
        "For inference (when we don't need gradients), we can disable autograd tracking using `torch.no_grad()`."
      ]
    },
    {
      "cell_type": "code",
      "execution_count": 28,
      "id": "8a0e948e",
      "metadata": {
        "id": "8a0e948e"
      },
      "outputs": [],
      "source": [
        "# TODO: Create a function that disables gradient tracking using `torch.no_grad()`\n",
        "def disable_grad(x):\n",
        "    with torch.no_grad():\n",
        "        x = x + 1  \n",
        "    return x"
      ]
    },
    {
      "cell_type": "markdown",
      "id": "7e7cee85",
      "metadata": {
        "id": "7e7cee85"
      },
      "source": [
        "### 6. Exercises\n",
        "Try modifying the equation `y = x**2 + 3*x + 5` and compute gradients for different functions."
      ]
    },
    {
      "cell_type": "code",
      "execution_count": 29,
      "id": "nnA-dg0wawKt",
      "metadata": {
        "id": "nnA-dg0wawKt"
      },
      "outputs": [
        {
          "name": "stdout",
          "output_type": "stream",
          "text": [
            "tensor([[11., 24., 43., 68.]])\n"
          ]
        }
      ],
      "source": [
        "# TODO: Modify the equation y = x**2 + 3*x + 5 to a different function (example: y = x**3 + 2*x**2 + 4*x + 1) and compute its gradients.\n",
        "\n",
        "y = x**3 + 2*x**2 + 4*x + 1\n",
        "x.grad.zero_()\n",
        "y.sum().backward()\n",
        "print(x.grad)"
      ]
    },
    {
      "cell_type": "markdown",
      "id": "fdbc4f2b-7f56-4311-a6d0-bc451cd798d3",
      "metadata": {
        "id": "fdbc4f2b-7f56-4311-a6d0-bc451cd798d3"
      },
      "source": [
        "## 4. Data Handling and Preprocessing\n",
        "\n",
        "### 1. Using Built-in Datasets and DataLoaders\n",
        "\n",
        "Example: Loading the MNIST dataset using torchvision."
      ]
    },
    {
      "cell_type": "code",
      "execution_count": 30,
      "id": "5a5a7c3d-0b2b-4a7f-b45b-3d4b5b8b9e5a",
      "metadata": {
        "id": "5a5a7c3d-0b2b-4a7f-b45b-3d4b5b8b9e5a"
      },
      "outputs": [
        {
          "name": "stdout",
          "output_type": "stream",
          "text": [
            "Batch shape: torch.Size([64, 1, 28, 28]) torch.Size([64])\n"
          ]
        }
      ],
      "source": [
        "from torchvision import datasets, transforms\n",
        "from torch.utils.data import DataLoader\n",
        "\n",
        "transform = transforms.Compose([transforms.ToTensor()])\n",
        "\n",
        "train_dataset = datasets.MNIST(root='./data', train=True, download=True, transform=transform)\n",
        "train_loader = DataLoader(train_dataset, batch_size=64, shuffle=True)\n",
        "\n",
        "images, labels = next(iter(train_loader))\n",
        "print(\"Batch shape:\", images.shape, labels.shape)"
      ]
    },
    {
      "cell_type": "markdown",
      "id": "c9c7c5f7-6e2a-4b4c-a5e5-8b3c2c7a2c3d",
      "metadata": {
        "id": "c9c7c5f7-6e2a-4b4c-a5e5-8b3c2c7a2c3d"
      },
      "source": [
        "### 2. Creating Custom Datasets\n",
        "\n",
        "Create your own dataset by subclassing `torch.utils.data.Dataset`."
      ]
    },
    {
      "cell_type": "code",
      "execution_count": 31,
      "id": "c2ecbc6f-9e1b-4880-91ac-6acaa6d93e12",
      "metadata": {
        "id": "c2ecbc6f-9e1b-4880-91ac-6acaa6d93e12"
      },
      "outputs": [],
      "source": [
        "from torch.utils.data import Dataset\n",
        "from PIL import Image\n",
        "import os\n",
        "\n",
        "class CustomImageDataset(Dataset):\n",
        "    def __init__(self, image_dir, transform=None):\n",
        "        self.image_dir = image_dir\n",
        "        self.transform = transform\n",
        "        self.image_files = [f for f in os.listdir(image_dir) if f.endswith('.jpg') or f.endswith('.png')]\n",
        "\n",
        "    def __len__(self):\n",
        "        return len(self.image_files)\n",
        "\n",
        "    def __getitem__(self, idx):\n",
        "        img_path = os.path.join(self.image_dir, self.image_files[idx])\n",
        "        image = Image.open(img_path)\n",
        "        if self.transform:\n",
        "            image = self.transform(image)\n",
        "        return image\n",
        "\n",
        "# Example usage:\n",
        "# transform = transforms.Compose([transforms.Resize((128, 128)), transforms.ToTensor()])\n",
        "# dataset = CustomImageDataset('path_to_images', transform=transform)\n",
        "# loader = DataLoader(dataset, batch_size=32, shuffle=True)"
      ]
    },
    {
      "cell_type": "markdown",
      "id": "0a80c2c3-3e3f-4e8b-ae1d-d8b5a6f7c1d9",
      "metadata": {
        "id": "0a80c2c3-3e3f-4e8b-ae1d-d8b5a6f7c1d9"
      },
      "source": [
        "### Exercise\n",
        "\n",
        "- Write and test a custom dataset class that loads images from a directory.\n",
        "- Apply normalization and other transformations.\n",
        "- Use DataLoader to iterate over the dataset."
      ]
    },
    {
      "cell_type": "code",
      "execution_count": 32,
      "id": "c0d14cc0",
      "metadata": {},
      "outputs": [],
      "source": [
        "from torch.utils.data import Dataset\n",
        "from PIL import Image\n",
        "import os\n",
        "\n",
        "class CustomImageDataset(Dataset):\n",
        "    def __init__(self, image_dir, transform=None):\n",
        "        self.image_dir = image_dir\n",
        "        self.transform = transform\n",
        "        self.image_files = [f for f in os.listdir(image_dir) if f.endswith('.jpg') or f.endswith('.png')]\n",
        "\n",
        "    def __len__(self):\n",
        "        return len(self.image_files)\n",
        "\n",
        "    def __getitem__(self, idx):\n",
        "        img_path = os.path.join(self.image_dir, self.image_files[idx])\n",
        "        image = Image.open(img_path)\n",
        "        if self.transform:\n",
        "            image = self.transform(image)\n",
        "        return image\n",
        "\n",
        "# Example usage:\n",
        "# transform = transforms.Compose([transforms.Resize((128, 128)), transforms.ToTensor()])\n",
        "# dataset = CustomImageDataset('path_to_images', transform=transform)\n",
        "# loader = DataLoader(dataset, batch_size=32, shuffle=True)"
      ]
    },
    {
      "cell_type": "markdown",
      "id": "8ef1d2b4-2a6a-4d3b-8e39-4a9c4f3d5aeb",
      "metadata": {
        "id": "8ef1d2b4-2a6a-4d3b-8e39-4a9c4f3d5aeb"
      },
      "source": [
        "## 5. Building Neural Networks\n",
        "\n",
        "### 1. The `nn.Module` Class\n",
        "\n",
        "Create a simple neural network by subclassing `nn.Module`."
      ]
    },
    {
      "cell_type": "code",
      "execution_count": 33,
      "id": "8efd86b7",
      "metadata": {
        "id": "8efd86b7"
      },
      "outputs": [
        {
          "name": "stdout",
          "output_type": "stream",
          "text": [
            "<bound method Module.type of SimpleNN(\n",
            "  (linear1): Linear(in_features=2, out_features=1, bias=True)\n",
            "  (relu): ReLU()\n",
            "  (linear2): Linear(in_features=1, out_features=1, bias=True)\n",
            ")>\n"
          ]
        }
      ],
      "source": [
        "# TODO: Create a class `SimpleNN` that inherits from `nn.Module`\n",
        "# TODO: Define an __init__ method to initialize two linear layers and a ReLU activation\n",
        "# TODO: Implement the forward method that applies linear -> ReLU -> linear transformation\n",
        "# TODO: Instantiate the model and print its architecture\n",
        "\n",
        "import torch.nn as nn\n",
        "class SimpleNN(nn.Module):\n",
        "    def __init__(self, input_dim, hidden_dim, output_dim):\n",
        "        super(SimpleNN, self).__init__()\n",
        "        self.linear1 = nn.Linear(input_dim, hidden_dim)\n",
        "        self.relu = nn.ReLU()\n",
        "        self.linear2 = nn.Linear(hidden_dim, output_dim)\n",
        "        \n",
        "    def forward(self, x):\n",
        "        out = self.linear1(x)\n",
        "        out = self.relu(out)\n",
        "        out = self.linear2(out)\n",
        "        return out\n",
        "        \n",
        "        \n",
        "model = SimpleNN(2,1,1)\n",
        "print(model.type)"
      ]
    },
    {
      "cell_type": "markdown",
      "id": "3749fa3f",
      "metadata": {
        "id": "3749fa3f"
      },
      "source": [
        "### 2. Forward Pass and Loss Calculation\n",
        "We create dummy data and pass it through the model to compute the loss."
      ]
    },
    {
      "cell_type": "code",
      "execution_count": 34,
      "id": "1fcbd113",
      "metadata": {
        "id": "1fcbd113"
      },
      "outputs": [
        {
          "name": "stdout",
          "output_type": "stream",
          "text": [
            "tensor(23.1419, grad_fn=<MseLossBackward0>)\n"
          ]
        }
      ],
      "source": [
        "# TODO: Create a tensor `x_train` with shape (4,1) containing input values (1,2,3,4)\n",
        "# TODO: Create a tensor `y_train` with shape (4,1) containing target values (2,4,6,8)\n",
        "# TODO: Define the Mean Squared Error (MSE) loss function\n",
        "# TODO: Perform a forward pass by passing `x_train` through the model to get predictions\n",
        "# TODO: Compute the loss between predictions and `y_train`\n",
        "# TODO: Print the initial loss value\n",
        "x_train = torch.tensor([[1],[2],[3],[4]], dtype=torch.float32)\n",
        "y_train = torch.tensor([[2],[4],[6],[8]], dtype=torch.float32)\n",
        "criterion = nn.MSELoss()\n",
        "model = SimpleNN(1,1,1)\n",
        "y_pred = model(x_train)\n",
        "loss = criterion(y_pred, y_train)\n",
        "print(loss)"
      ]
    },
    {
      "cell_type": "markdown",
      "id": "7bbf8bf3",
      "metadata": {
        "id": "7bbf8bf3"
      },
      "source": [
        "### 3. Backward Pass and Gradient Calculation\n",
        "We perform backpropagation by calling `loss.backward()` and inspect the gradients."
      ]
    },
    {
      "cell_type": "code",
      "execution_count": 35,
      "id": "8f91b0e9",
      "metadata": {
        "id": "8f91b0e9"
      },
      "outputs": [
        {
          "name": "stdout",
          "output_type": "stream",
          "text": [
            "linear1.weight: tensor([[-0.1156]])\n",
            "linear1.bias: tensor([-0.1156])\n",
            "linear2.weight: tensor([[-0.0838]])\n",
            "linear2.bias: tensor([-8.5097])\n"
          ]
        }
      ],
      "source": [
        "# TODO: Call backward() to compute gradients, then print them.\n",
        "loss.backward()\n",
        "for name, param in model.named_parameters():\n",
        "    print(f'{name}: {param.grad}')"
      ]
    },
    {
      "cell_type": "markdown",
      "id": "5b5ee856",
      "metadata": {
        "id": "5b5ee856"
      },
      "source": [
        "### 4. Updating Parameters with Optimization\n",
        "We use Stochastic Gradient Descent (SGD) to update the model parameters."
      ]
    },
    {
      "cell_type": "code",
      "execution_count": 36,
      "id": "386908a9",
      "metadata": {
        "id": "386908a9"
      },
      "outputs": [
        {
          "name": "stdout",
          "output_type": "stream",
          "text": [
            "linear1.weight: Parameter containing:\n",
            "tensor([[-0.7221]], requires_grad=True)\n",
            "linear1.bias: Parameter containing:\n",
            "tensor([0.8808], requires_grad=True)\n",
            "linear2.weight: Parameter containing:\n",
            "tensor([[0.1955]], requires_grad=True)\n",
            "linear2.bias: Parameter containing:\n",
            "tensor([1.5898], requires_grad=True)\n"
          ]
        }
      ],
      "source": [
        "from torch import optim\n",
        "optimizer = optim.SGD(model.parameters(), lr=0.1)\n",
        "# TODO: Apply an optimizer step and check parameter updates.\n",
        "optimizer.step()\n",
        "for name, param in model.named_parameters():\n",
        "    print(f'{name}: {param}')\n",
        "    "
      ]
    },
    {
      "cell_type": "markdown",
      "id": "1cbe44b3",
      "metadata": {
        "id": "1cbe44b3"
      },
      "source": [
        "### 5. Training Loop\n",
        "We train the model for multiple epochs, performing forward and backward passes, and updating parameters."
      ]
    },
    {
      "cell_type": "code",
      "execution_count": 37,
      "id": "488d00f0",
      "metadata": {
        "id": "488d00f0"
      },
      "outputs": [
        {
          "name": "stdout",
          "output_type": "stream",
          "text": [
            "epoch:0, loss:16.62348747253418\n",
            "epoch:10, loss:5.135692596435547\n",
            "epoch:20, loss:5.001564025878906\n",
            "epoch:30, loss:5.000018119812012\n",
            "epoch:40, loss:5.0\n",
            "epoch:50, loss:5.0\n",
            "epoch:60, loss:5.0\n",
            "epoch:70, loss:5.0\n",
            "epoch:80, loss:5.0\n",
            "epoch:90, loss:5.0\n"
          ]
        }
      ],
      "source": [
        "epochs = 100\n",
        "for epoch in range(epochs):\n",
        "    optimizer.zero_grad()\n",
        "    y_pred = model(x_train)\n",
        "    loss = criterion(y_pred, y_train)\n",
        "    loss.backward()\n",
        "    optimizer.step()\n",
        "    if (epoch) % 10 == 0:\n",
        "        print(f'epoch:{epoch}, loss:{loss}')\n",
        "    # TODO: Perform a forward pass and compute loss\n",
        "    # TODO: Reset gradients, perform backpropagation, and update model parameters\n",
        "    # TODO: Print loss every 10 epochs"
      ]
    },
    {
      "cell_type": "markdown",
      "id": "4fdc6a45-5a69-4a16-b1e5-ef0b4a9d2f3c",
      "metadata": {
        "id": "4fdc6a45-5a69-4a16-b1e5-ef0b4a9d2f3c"
      },
      "source": [
        "### Exercise\n",
        "\n",
        "- Build a neural network for binary classification using a synthetic dataset.\n",
        "- Write a training loop and plot the loss curve over epochs."
      ]
    },
    {
      "cell_type": "markdown",
      "id": "e81d31f0-0f5f-4f88-9d48-9c1a3aaf3b6e",
      "metadata": {
        "id": "e81d31f0-0f5f-4f88-9d48-9c1a3aaf3b6e"
      },
      "source": [
        "## 6. Model Deployment\n",
        "\n",
        "### 1. Saving and Loading Models\n",
        "\n",
        "Save your trained model and load it later for inference."
      ]
    },
    {
      "cell_type": "code",
      "execution_count": 39,
      "id": "f3b6e42e-3c54-4d8b-a1d9-8f9a5b4c3e7f",
      "metadata": {
        "colab": {
          "base_uri": "https://localhost:8080/",
          "height": 218
        },
        "id": "f3b6e42e-3c54-4d8b-a1d9-8f9a5b4c3e7f",
        "outputId": "15d15280-33b5-4b87-9213-de2dd46eef12"
      },
      "outputs": [
        {
          "data": {
            "text/plain": [
              "SimpleNN(\n",
              "  (linear1): Linear(in_features=1, out_features=1, bias=True)\n",
              "  (relu): ReLU()\n",
              "  (linear2): Linear(in_features=1, out_features=1, bias=True)\n",
              ")"
            ]
          },
          "execution_count": 39,
          "metadata": {},
          "output_type": "execute_result"
        }
      ],
      "source": [
        "# Saving the model\n",
        "torch.save(model.state_dict(), \"model.pth\")\n",
        "\n",
        "# Loading the model\n",
        "model_loaded = SimpleNN(input_dim=1, hidden_dim=1, output_dim=1)\n",
        "model_loaded.load_state_dict(torch.load(\"model.pth\"))\n",
        "model_loaded.eval()"
      ]
    },
    {
      "cell_type": "markdown",
      "id": "9e8c4f72-1e4f-4aee-8d48-4d9c7c6b2b3f",
      "metadata": {
        "id": "9e8c4f72-1e4f-4aee-8d48-4d9c7c6b2b3f"
      },
      "source": [
        "### 2. Exporting with TorchScript\n",
        "\n",
        "Convert your model to TorchScript for optimized production deployment."
      ]
    },
    {
      "cell_type": "code",
      "execution_count": 40,
      "id": "d9f8a6f1-3bfa-4d6c-8f1e-2c7d9e5a3b1c",
      "metadata": {
        "id": "d9f8a6f1-3bfa-4d6c-8f1e-2c7d9e5a3b1c"
      },
      "outputs": [],
      "source": [
        "scripted_model = torch.jit.script(model)\n",
        "scripted_model.save(\"scripted_model.pt\")"
      ]
    },
    {
      "cell_type": "markdown",
      "id": "8b3f9d4a-1f3e-41b6-9f2e-3c8d7e2a1b5e",
      "metadata": {
        "id": "8b3f9d4a-1f3e-41b6-9f2e-3c8d7e2a1b5e"
      },
      "source": [
        "### Exercise\n",
        "\n",
        "- Export a trained model using TorchScript or ONNX.\n",
        "- Build a simple API (using Flask or FastAPI) that loads the model and returns predictions for a given input."
      ]
    },
    {
      "cell_type": "markdown",
      "id": "d80ffe90",
      "metadata": {},
      "source": [
        "# important !\n",
        "run terminal   \n",
        "python app.py  \n",
        "separate terminal  \n",
        "curl -X POST -H \"Content-Type: application/json\" -d '{\"input\": [1.0]}' http://127.0.0.1:5001/predict"
      ]
    },
    {
      "cell_type": "code",
      "execution_count": 42,
      "id": "5d977296",
      "metadata": {},
      "outputs": [],
      "source": [
        "from flask import Flask, request, jsonify\n",
        "app = Flask(__name__)\n",
        "\n",
        "model = torch.jit.load(\"scripted_model.pt\")\n",
        "model.eval()\n",
        "\n",
        "@app.route('/predict', methods=['POST'])\n",
        "def predict():\n",
        "    data = request.get_json()\n",
        "    input_tensor = torch.tensor(data['input'], dtype=torch.float32).reshape(-1,1)\n",
        "    with torch.no_grad():\n",
        "        prediction = model(input_tensor).item()\n",
        "    return jsonify({'pridiction': prediction})"
      ]
    },
    {
      "cell_type": "code",
      "execution_count": 43,
      "id": "aa9f18d4",
      "metadata": {},
      "outputs": [
        {
          "name": "stdout",
          "output_type": "stream",
          "text": [
            " * Serving Flask app '__main__'\n",
            " * Debug mode: on\n"
          ]
        },
        {
          "name": "stderr",
          "output_type": "stream",
          "text": [
            "WARNING: This is a development server. Do not use it in a production deployment. Use a production WSGI server instead.\n",
            " * Running on http://127.0.0.1:5000\n",
            "Press CTRL+C to quit\n",
            " * Restarting with stat\n",
            "Traceback (most recent call last):\n",
            "  File \"/home/ir739wb/miniconda3/envs/myenv/lib/python3.12/runpy.py\", line 198, in _run_module_as_main\n",
            "    return _run_code(code, main_globals, None,\n",
            "           ^^^^^^^^^^^^^^^^^^^^^^^^^^^^^^^^^^^\n",
            "  File \"/home/ir739wb/miniconda3/envs/myenv/lib/python3.12/runpy.py\", line 88, in _run_code\n",
            "    exec(code, run_globals)\n",
            "  File \"/home/ir739wb/miniconda3/envs/myenv/lib/python3.12/site-packages/ipykernel_launcher.py\", line 18, in <module>\n",
            "    app.launch_new_instance()\n",
            "  File \"/home/ir739wb/miniconda3/envs/myenv/lib/python3.12/site-packages/traitlets/config/application.py\", line 1074, in launch_instance\n",
            "    app.initialize(argv)\n",
            "  File \"/home/ir739wb/miniconda3/envs/myenv/lib/python3.12/site-packages/traitlets/config/application.py\", line 118, in inner\n",
            "    return method(app, *args, **kwargs)\n",
            "           ^^^^^^^^^^^^^^^^^^^^^^^^^^^^\n",
            "  File \"/home/ir739wb/miniconda3/envs/myenv/lib/python3.12/site-packages/ipykernel/kernelapp.py\", line 692, in initialize\n",
            "    self.init_sockets()\n",
            "  File \"/home/ir739wb/miniconda3/envs/myenv/lib/python3.12/site-packages/ipykernel/kernelapp.py\", line 331, in init_sockets\n",
            "    self.shell_port = self._bind_socket(self.shell_socket, self.shell_port)\n",
            "                      ^^^^^^^^^^^^^^^^^^^^^^^^^^^^^^^^^^^^^^^^^^^^^^^^^^^^^\n",
            "  File \"/home/ir739wb/miniconda3/envs/myenv/lib/python3.12/site-packages/ipykernel/kernelapp.py\", line 253, in _bind_socket\n",
            "    return self._try_bind_socket(s, port)\n",
            "           ^^^^^^^^^^^^^^^^^^^^^^^^^^^^^^\n",
            "  File \"/home/ir739wb/miniconda3/envs/myenv/lib/python3.12/site-packages/ipykernel/kernelapp.py\", line 229, in _try_bind_socket\n",
            "    s.bind(\"tcp://%s:%i\" % (self.ip, port))\n",
            "  File \"/home/ir739wb/miniconda3/envs/myenv/lib/python3.12/site-packages/zmq/sugar/socket.py\", line 311, in bind\n",
            "    super().bind(addr)\n",
            "  File \"_zmq.py\", line 917, in zmq.backend.cython._zmq.Socket.bind\n",
            "  File \"_zmq.py\", line 179, in zmq.backend.cython._zmq._check_rc\n",
            "zmq.error.ZMQError: Address already in use (addr='tcp://127.0.0.1:40557')\n"
          ]
        },
        {
          "ename": "SystemExit",
          "evalue": "1",
          "output_type": "error",
          "traceback": [
            "An exception has occurred, use %tb to see the full traceback.\n",
            "\u001b[0;31mSystemExit\u001b[0m\u001b[0;31m:\u001b[0m 1\n"
          ]
        },
        {
          "name": "stderr",
          "output_type": "stream",
          "text": [
            "/home/ir739wb/miniconda3/envs/myenv/lib/python3.12/site-packages/IPython/core/interactiveshell.py:3585: UserWarning: To exit: use 'exit', 'quit', or Ctrl-D.\n",
            "  warn(\"To exit: use 'exit', 'quit', or Ctrl-D.\", stacklevel=1)\n"
          ]
        }
      ],
      "source": [
        "app.run(debug=True)"
      ]
    },
    {
      "cell_type": "markdown",
      "id": "bb5e1a7c-3f8b-44a4-bc0d-9b0d6f2e7a8f",
      "metadata": {
        "id": "bb5e1a7c-3f8b-44a4-bc0d-9b0d6f2e7a8f"
      },
      "source": [
        "## 7. Final Project and Conclusion\n",
        "\n",
        "### 1. Final Project: Zadanie c.2"
      ]
    },
    {
      "cell_type": "markdown",
      "id": "e3fbd1a2-68ef-4a7d-9a1c-4b1d8f6c3e2a",
      "metadata": {
        "id": "e3fbd1a2-68ef-4a7d-9a1c-4b1d8f6c3e2a"
      },
      "source": [
        "### 2. Conclusion and Further Resources\n",
        "\n",
        "- **Recap:** This notebook has guided you from the basics of PyTorch to building and deploying a neural network.\n",
        "- **Further Reading:**\n",
        "  - [Official PyTorch Tutorials](https://pytorch.org/tutorials/)\n",
        "  - [PyTorch Documentation](https://pytorch.org/docs/stable/index.html)\n",
        "  - [Deep Learning with PyTorch: A 60 Minute Blitz](https://pytorch.org/tutorials/beginner/deep_learning_60min_blitz.html)\n",
        "  - [PyTorch Beginner Tutorial](https://www.youtube.com/watch?v=EMXfZB8FVUA&list=PLqnslRFeH2UrcDBWF5mfPGpqQDSta6VK4)"
      ]
    }
  ],
  "metadata": {
    "colab": {
      "provenance": []
    },
    "kernelspec": {
      "display_name": "Python (myenv)",
      "language": "python",
      "name": "myenv"
    },
    "language_info": {
      "codemirror_mode": {
        "name": "ipython",
        "version": 3
      },
      "file_extension": ".py",
      "mimetype": "text/x-python",
      "name": "python",
      "nbconvert_exporter": "python",
      "pygments_lexer": "ipython3",
      "version": "3.12.9"
    }
  },
  "nbformat": 4,
  "nbformat_minor": 5
}
