{
  "cells": [
    {
      "cell_type": "markdown",
      "id": "0c41a14d-7f3e-40d9-b6a3-8ec8892c8e4b",
      "metadata": {
        "id": "0c41a14d-7f3e-40d9-b6a3-8ec8892c8e4b"
      },
      "source": [
        "# PyTorch Tutorial\n",
        "\n",
        "## What is PyTorch?\n",
        "PyTorch is an **open-source deep learning framework** developed by Facebook AI Research (FAIR). It provides dynamic computation graphs, easy debugging, and a **Pythonic** interface, making it an ideal choice for both researchers and practitioners.\n",
        "\n",
        "### **Key Features of PyTorch:**\n",
        "- **Tensors**: Multi-dimensional arrays similar to NumPy but with GPU acceleration.\n",
        "- **Autograd**: Automatic differentiation for computing gradients.\n",
        "- **Neural Networks (torch.nn)**: A module for building deep learning models.\n",
        "- **Optimizers (torch.optim)**: Algorithms like SGD, Adam for model training.\n",
        "- **Dataset and DataLoader**: Tools for handling data efficiently.\n",
        "- **GPU Acceleration**: Seamless transition between CPU and GPU computations."
      ]
    },
    {
      "cell_type": "markdown",
      "id": "b1f8b3d0-96e4-4d70-9dcd-c0e8b2c1de7a",
      "metadata": {
        "id": "b1f8b3d0-96e4-4d70-9dcd-c0e8b2c1de7a"
      },
      "source": [
        "## 1. Installation and Setup\n",
        "\n",
        "Install PyTorch using pip (or conda):\n",
        "\n",
        "```bash\n",
        "pip install torch torchvision\n",
        "```"
      ]
    },
    {
      "cell_type": "code",
      "execution_count": null,
      "id": "0f5e2ac2-1890-4f3d-8c97-6d9f9f1db5a3",
      "metadata": {
        "id": "0f5e2ac2-1890-4f3d-8c97-6d9f9f1db5a3"
      },
      "outputs": [],
      "source": [
        "import torch\n",
        "\n",
        "print(\"PyTorch version:\", torch.__version__)\n",
        "print(\"CUDA available:\", torch.cuda.is_available())"
      ]
    },
    {
      "cell_type": "markdown",
      "id": "43e3f0f9-14cf-412a-9e2e-62aee27537c9",
      "metadata": {
        "id": "43e3f0f9-14cf-412a-9e2e-62aee27537c9"
      },
      "source": [
        "### Exercise 1\n",
        "\n",
        "- Verify your installation by printing the computation device (CPU/GPU)."
      ]
    },
    {
      "cell_type": "markdown",
      "metadata": {
        "id": "3dd2ad18"
      },
      "source": [
        "## 2. PyTorch Tensor Basics"
      ],
      "id": "3dd2ad18"
    },
    {
      "cell_type": "markdown",
      "metadata": {
        "id": "9815f443"
      },
      "source": [
        "### **Understanding PyTorch Tensors**\n",
        "\n",
        "Tensors are the **building blocks of PyTorch**. They are similar to NumPy arrays but can run on **GPUs**.\n",
        "\n",
        "**Common Tensor Operations:**\n",
        "- Creating Tensors: `torch.tensor()`, `torch.zeros()`, `torch.ones()`, `torch.rand()`\n",
        "- Reshaping: `tensor.view()` or `tensor.reshape()`\n",
        "- Mathematical Operations: `+`, `-`, `*`, `matmul()`, etc.\n"
      ],
      "id": "9815f443"
    },
    {
      "cell_type": "markdown",
      "metadata": {
        "id": "4d4b0c8d"
      },
      "source": [
        "### 1. Creating Tensors\n",
        "\n",
        "Below are different ways to create tensors in PyTorch:\n",
        "- `torch.tensor()` - Creates a tensor with specific values.\n",
        "- `torch.zeros()` - Creates a tensor filled with zeros.\n",
        "- `torch.ones()` - Creates a tensor filled with ones.\n",
        "- `torch.rand()` - Creates a tensor with random values."
      ],
      "id": "4d4b0c8d"
    },
    {
      "cell_type": "markdown",
      "metadata": {
        "id": "f90d14af"
      },
      "source": [
        "### Exercise:\n"
      ],
      "id": "f90d14af"
    },
    {
      "cell_type": "code",
      "execution_count": null,
      "metadata": {
        "id": "05ff8b86"
      },
      "outputs": [],
      "source": [
        "print(\"\\nCreating Tensors:\")\n",
        "# TODO: Create a tensor with values [1, 2, 3, 4] and print its shape.\n",
        "# TODO: Create a tensor of shape (2,2) filled with zeros.\n",
        "# TODO: Create a tensor of shape (3,3) filled with ones.\n",
        "# TODO: Generate a random tensor of shape (2,3) and print its values.\n",
        "print(\"Tensor 1:\", tensor1)\n",
        "print(\"Tensor 2 (Zeros):\", tensor2)\n",
        "print(\"Tensor 3 (Ones):\", tensor3)\n",
        "print(\"Tensor 4 (Random):\", tensor4)"
      ],
      "id": "05ff8b86"
    },
    {
      "cell_type": "markdown",
      "metadata": {
        "id": "ee8ad374"
      },
      "source": [
        "### 2. Tensor Attributes\n",
        "Each tensor has attributes such as shape, data type, and device.\n",
        "\n",
        "The **shape** of a tensor represents its dimensions (number of rows and columns, or more in higher-dimensional tensors).\n",
        "\n",
        "Every tensor has a **data type** that defines the type of values it holds.\n",
        "PyTorch supports different data types like *torch.float32, torch.int64, torch.bool*, etc. The default data type in PyTorch is **torch.float32**.\n",
        "\n",
        "Tensors can be stored either on the CPU or GPU."
      ],
      "id": "ee8ad374"
    },
    {
      "cell_type": "code",
      "execution_count": null,
      "metadata": {
        "id": "89ce2dc2"
      },
      "outputs": [],
      "source": [
        "print(\"\\nTensor Attributes:\")\n",
        "# TODO: Print tensor1 shape\n",
        "# TODO: Print tensor1 data type\n",
        "# TODO: Change tensor1 to other data type\n",
        "# TODO: Print tensor1 device\n",
        "# TODO: Move tensor1 to GPU (if available)\n"
      ],
      "id": "89ce2dc2"
    },
    {
      "cell_type": "markdown",
      "metadata": {
        "id": "5a82f8a3"
      },
      "source": [
        "### 3. Tensor Operations\n",
        "Tensors support mathematical operations such as addition, multiplication, and matrix multiplication."
      ],
      "id": "5a82f8a3"
    },
    {
      "cell_type": "code",
      "execution_count": null,
      "metadata": {
        "id": "077482c2"
      },
      "outputs": [],
      "source": [
        "print(\"\\nTensor Operations:\")\n",
        "# TODO: Add tensor1 to itself and store the result\n",
        "# TODO: Multiply tensor1 with itself and store the result\n",
        "# TODO: Perform matrix multiplication on tensor1 with itself and store the result\n",
        "# TODO: Print the results for addition, multiplication, and matrix multiplication"
      ],
      "id": "077482c2"
    },
    {
      "cell_type": "markdown",
      "metadata": {
        "id": "f28a7d22"
      },
      "source": [
        "### 4. Reshaping Tensors\n",
        "Reshaping tensors is important for data manipulation in machine learning."
      ],
      "id": "f28a7d22"
    },
    {
      "cell_type": "code",
      "execution_count": null,
      "metadata": {
        "id": "caa4e405"
      },
      "outputs": [],
      "source": [
        "print(\"\\nReshaping Tensors:\")\n",
        "# TODO: Create a tensor with values from 1 to 9 using torch.arange\n",
        "# TODO: Reshape and print the tensor into a 3x3 matrix\n",
        "# TODO: Reshape the tensor into (1x9) and print it\n",
        "# TODO: Reshape the tensor into (9x1) and print it"
      ],
      "id": "caa4e405"
    },
    {
      "cell_type": "markdown",
      "metadata": {
        "id": "488d47d2"
      },
      "source": [
        "### 5. Exercises\n",
        "\n",
        "Use other methods to create tensor in PyTorch\n",
        "\n",
        "*torch.linspace(start, end, step)* is a function in PyTorch that creates a 1D tensor with  evenly spaced values between a specified start and end.\n",
        "\n",
        "*torch.arange(start, end, step)* creates a 1D tensor with a specific step size between values.\n",
        "\n",
        "*torch.full(size, fill_value)* creates a tensor filled with a specific value.\n",
        "\n",
        "*torch.eye(n)* creates an identity matrix with 1s on the diagonal.\n",
        "\n",
        "*torch.diag(tensor)* creates a diagonal matrix with elements of a given tensor along the diagonal.\n"
      ],
      "id": "488d47d2"
    },
    {
      "cell_type": "code",
      "source": [
        "# TODO: Create your own tensors using different methods in PyTorch."
      ],
      "metadata": {
        "id": "-zCjMGO_Wv0Q"
      },
      "execution_count": null,
      "outputs": [],
      "id": "-zCjMGO_Wv0Q"
    },
    {
      "cell_type": "markdown",
      "metadata": {
        "id": "5c0bc38b"
      },
      "source": [
        "## 3. PyTorch Autograd Basics"
      ],
      "id": "5c0bc38b"
    },
    {
      "cell_type": "markdown",
      "metadata": {
        "id": "c9bd1a8a"
      },
      "source": [
        "### **Understanding Autograd (Automatic Differentiation)**\n",
        "\n",
        "PyTorch’s **autograd** module enables automatic differentiation, essential for **backpropagation**.\n",
        "\n",
        "**Key Concepts:**\n",
        "- `requires_grad=True`: Enables tracking gradients for a tensor.\n",
        "- `tensor.backward()`: Computes the gradient w.r.t. tensor.\n",
        "- `tensor.grad`: Accesses the computed gradient.\n"
      ],
      "id": "c9bd1a8a"
    },
    {
      "cell_type": "markdown",
      "metadata": {
        "id": "4e00b40d"
      },
      "source": [
        "### 1. Introduction to Autograd\n",
        "\n",
        "PyTorch's `autograd` package provides automatic differentiation for all operations on Tensors. It is a crucial tool for training neural networks."
      ],
      "id": "4e00b40d"
    },
    {
      "cell_type": "code",
      "execution_count": null,
      "metadata": {
        "id": "05a205eb"
      },
      "outputs": [],
      "source": [
        "import torch\n",
        "\n",
        "# Enable autograd for computations\n",
        "torch.manual_seed(42)"
      ],
      "id": "05a205eb"
    },
    {
      "cell_type": "markdown",
      "metadata": {
        "id": "ed58d555"
      },
      "source": [
        "### 2. Creating Tensors with Gradient Tracking\n",
        "To enable gradient tracking, set `requires_grad=True` when creating a tensor."
      ],
      "id": "ed58d555"
    },
    {
      "cell_type": "code",
      "execution_count": null,
      "metadata": {
        "id": "df8b6908"
      },
      "outputs": [],
      "source": [
        "# TODO: Create a tensor with values [1, 2, 3, 4] and print its shape.\n",
        "print(f'Tensor: {x}')"
      ],
      "id": "df8b6908"
    },
    {
      "cell_type": "markdown",
      "metadata": {
        "id": "f8c8b08d"
      },
      "source": [
        "### 3. Performing Operations\n",
        "Performing mathematical operations on tensors that have `requires_grad=True` automatically tracks these operations in the computation graph."
      ],
      "id": "f8c8b08d"
    },
    {
      "cell_type": "code",
      "execution_count": null,
      "metadata": {
        "id": "e07f1fcf"
      },
      "outputs": [],
      "source": [
        "y = x**2 + 3*x + 5\n",
        "print(f'Result: {y}')"
      ],
      "id": "e07f1fcf"
    },
    {
      "cell_type": "markdown",
      "metadata": {
        "id": "8f32aa01"
      },
      "source": [
        "### 4. Computing Gradients\n",
        "We compute the gradient of `y` with respect to `x` using `y.backward()`."
      ],
      "id": "8f32aa01"
    },
    {
      "cell_type": "code",
      "execution_count": null,
      "metadata": {
        "id": "25127888"
      },
      "outputs": [],
      "source": [
        "# TODO compute the gradient of y with respect to x using y.backward()\n",
        "print(f'Gradient of y with respect to x: {x.grad}')"
      ],
      "id": "25127888"
    },
    {
      "cell_type": "markdown",
      "metadata": {
        "id": "30833142"
      },
      "source": [
        "### 5. Disabling Gradient Tracking\n",
        "For inference (when we don't need gradients), we can disable autograd tracking using `torch.no_grad()`."
      ],
      "id": "30833142"
    },
    {
      "cell_type": "code",
      "execution_count": null,
      "metadata": {
        "id": "8a0e948e"
      },
      "outputs": [],
      "source": [
        "# TODO: Create a function that disables gradient tracking using `torch.no_grad()`\n"
      ],
      "id": "8a0e948e"
    },
    {
      "cell_type": "markdown",
      "metadata": {
        "id": "7e7cee85"
      },
      "source": [
        "### 6. Exercises\n",
        "Try modifying the equation `y = x**2 + 3*x + 5` and compute gradients for different functions."
      ],
      "id": "7e7cee85"
    },
    {
      "cell_type": "code",
      "source": [
        "# TODO: Modify the equation y = x**2 + 3*x + 5 to a different function (example: y = x**3 + 2*x**2 + 4*x + 1) and compute its gradients."
      ],
      "metadata": {
        "id": "nnA-dg0wawKt"
      },
      "execution_count": null,
      "outputs": [],
      "id": "nnA-dg0wawKt"
    },
    {
      "cell_type": "markdown",
      "id": "fdbc4f2b-7f56-4311-a6d0-bc451cd798d3",
      "metadata": {
        "id": "fdbc4f2b-7f56-4311-a6d0-bc451cd798d3"
      },
      "source": [
        "## 4. Data Handling and Preprocessing\n",
        "\n",
        "### 1. Using Built-in Datasets and DataLoaders\n",
        "\n",
        "Example: Loading the MNIST dataset using torchvision."
      ]
    },
    {
      "cell_type": "code",
      "execution_count": null,
      "id": "5a5a7c3d-0b2b-4a7f-b45b-3d4b5b8b9e5a",
      "metadata": {
        "id": "5a5a7c3d-0b2b-4a7f-b45b-3d4b5b8b9e5a"
      },
      "outputs": [],
      "source": [
        "from torchvision import datasets, transforms\n",
        "from torch.utils.data import DataLoader\n",
        "\n",
        "transform = transforms.Compose([transforms.ToTensor()])\n",
        "\n",
        "train_dataset = datasets.MNIST(root='./data', train=True, download=True, transform=transform)\n",
        "train_loader = DataLoader(train_dataset, batch_size=64, shuffle=True)\n",
        "\n",
        "images, labels = next(iter(train_loader))\n",
        "print(\"Batch shape:\", images.shape, labels.shape)"
      ]
    },
    {
      "cell_type": "markdown",
      "id": "c9c7c5f7-6e2a-4b4c-a5e5-8b3c2c7a2c3d",
      "metadata": {
        "id": "c9c7c5f7-6e2a-4b4c-a5e5-8b3c2c7a2c3d"
      },
      "source": [
        "### 2. Creating Custom Datasets\n",
        "\n",
        "Create your own dataset by subclassing `torch.utils.data.Dataset`."
      ]
    },
    {
      "cell_type": "code",
      "execution_count": null,
      "id": "c2ecbc6f-9e1b-4880-91ac-6acaa6d93e12",
      "metadata": {
        "id": "c2ecbc6f-9e1b-4880-91ac-6acaa6d93e12"
      },
      "outputs": [],
      "source": [
        "from torch.utils.data import Dataset\n",
        "from PIL import Image\n",
        "import os\n",
        "\n",
        "class CustomImageDataset(Dataset):\n",
        "    def __init__(self, image_dir, transform=None):\n",
        "        self.image_dir = image_dir\n",
        "        self.transform = transform\n",
        "        self.image_files = [f for f in os.listdir(image_dir) if f.endswith('.jpg') or f.endswith('.png')]\n",
        "\n",
        "    def __len__(self):\n",
        "        return len(self.image_files)\n",
        "\n",
        "    def __getitem__(self, idx):\n",
        "        img_path = os.path.join(self.image_dir, self.image_files[idx])\n",
        "        image = Image.open(img_path)\n",
        "        if self.transform:\n",
        "            image = self.transform(image)\n",
        "        return image\n",
        "\n",
        "# Example usage:\n",
        "# transform = transforms.Compose([transforms.Resize((128, 128)), transforms.ToTensor()])\n",
        "# dataset = CustomImageDataset('path_to_images', transform=transform)\n",
        "# loader = DataLoader(dataset, batch_size=32, shuffle=True)"
      ]
    },
    {
      "cell_type": "markdown",
      "id": "0a80c2c3-3e3f-4e8b-ae1d-d8b5a6f7c1d9",
      "metadata": {
        "id": "0a80c2c3-3e3f-4e8b-ae1d-d8b5a6f7c1d9"
      },
      "source": [
        "### Exercise\n",
        "\n",
        "- Write and test a custom dataset class that loads images from a directory.\n",
        "- Apply normalization and other transformations.\n",
        "- Use DataLoader to iterate over the dataset."
      ]
    },
    {
      "cell_type": "markdown",
      "id": "8ef1d2b4-2a6a-4d3b-8e39-4a9c4f3d5aeb",
      "metadata": {
        "id": "8ef1d2b4-2a6a-4d3b-8e39-4a9c4f3d5aeb"
      },
      "source": [
        "## 5. Building Neural Networks\n",
        "\n",
        "### 1. The `nn.Module` Class\n",
        "\n",
        "Create a simple neural network by subclassing `nn.Module`."
      ]
    },
    {
      "cell_type": "code",
      "execution_count": null,
      "metadata": {
        "id": "8efd86b7"
      },
      "outputs": [],
      "source": [
        "# TODO: Create a class `SimpleNN` that inherits from `nn.Module`\n",
        "# TODO: Define an __init__ method to initialize two linear layers and a ReLU activation\n",
        "# TODO: Implement the forward method that applies linear -> ReLU -> linear transformation\n",
        "# TODO: Instantiate the model and print its architecture"
      ],
      "id": "8efd86b7"
    },
    {
      "cell_type": "markdown",
      "metadata": {
        "id": "3749fa3f"
      },
      "source": [
        "### 2. Forward Pass and Loss Calculation\n",
        "We create dummy data and pass it through the model to compute the loss."
      ],
      "id": "3749fa3f"
    },
    {
      "cell_type": "code",
      "execution_count": null,
      "metadata": {
        "id": "1fcbd113"
      },
      "outputs": [],
      "source": [
        "# TODO: Create a tensor `x_train` with shape (4,1) containing input values (1,2,3,4)\n",
        "# TODO: Create a tensor `y_train` with shape (4,1) containing target values (2,4,6,8)\n",
        "# TODO: Define the Mean Squared Error (MSE) loss function\n",
        "# TODO: Perform a forward pass by passing `x_train` through the model to get predictions\n",
        "# TODO: Compute the loss between predictions and `y_train`\n",
        "# TODO: Print the initial loss value\n"
      ],
      "id": "1fcbd113"
    },
    {
      "cell_type": "markdown",
      "metadata": {
        "id": "7bbf8bf3"
      },
      "source": [
        "### 3. Backward Pass and Gradient Calculation\n",
        "We perform backpropagation by calling `loss.backward()` and inspect the gradients."
      ],
      "id": "7bbf8bf3"
    },
    {
      "cell_type": "code",
      "execution_count": null,
      "metadata": {
        "id": "8f91b0e9"
      },
      "outputs": [],
      "source": [
        "# TODO: Call backward() to compute gradients, then print them.\n",
        "for name, param in model.named_parameters():\n",
        "    print(f'{name}: {param.grad}')"
      ],
      "id": "8f91b0e9"
    },
    {
      "cell_type": "markdown",
      "metadata": {
        "id": "5b5ee856"
      },
      "source": [
        "### 4. Updating Parameters with Optimization\n",
        "We use Stochastic Gradient Descent (SGD) to update the model parameters."
      ],
      "id": "5b5ee856"
    },
    {
      "cell_type": "code",
      "execution_count": null,
      "metadata": {
        "id": "386908a9"
      },
      "outputs": [],
      "source": [
        "optimizer = optim.SGD(model.parameters(), lr=0.01)\n",
        "# TODO: Apply an optimizer step and check parameter updates."
      ],
      "id": "386908a9"
    },
    {
      "cell_type": "markdown",
      "metadata": {
        "id": "1cbe44b3"
      },
      "source": [
        "### 5. Training Loop\n",
        "We train the model for multiple epochs, performing forward and backward passes, and updating parameters."
      ],
      "id": "1cbe44b3"
    },
    {
      "cell_type": "code",
      "execution_count": null,
      "metadata": {
        "id": "488d00f0"
      },
      "outputs": [],
      "source": [
        "epochs = 100\n",
        "for epoch in range(epochs):\n",
        "    # TODO: Perform a forward pass and compute loss\n",
        "    # TODO: Reset gradients, perform backpropagation, and update model parameters\n",
        "    # TODO: Print loss every 10 epochs"
      ],
      "id": "488d00f0"
    },
    {
      "cell_type": "markdown",
      "id": "4fdc6a45-5a69-4a16-b1e5-ef0b4a9d2f3c",
      "metadata": {
        "id": "4fdc6a45-5a69-4a16-b1e5-ef0b4a9d2f3c"
      },
      "source": [
        "### Exercise\n",
        "\n",
        "- Build a neural network for binary classification using a synthetic dataset.\n",
        "- Write a training loop and plot the loss curve over epochs."
      ]
    },
    {
      "cell_type": "markdown",
      "id": "e81d31f0-0f5f-4f88-9d48-9c1a3aaf3b6e",
      "metadata": {
        "id": "e81d31f0-0f5f-4f88-9d48-9c1a3aaf3b6e"
      },
      "source": [
        "## 6. Model Deployment\n",
        "\n",
        "### 1. Saving and Loading Models\n",
        "\n",
        "Save your trained model and load it later for inference."
      ]
    },
    {
      "cell_type": "code",
      "execution_count": 1,
      "id": "f3b6e42e-3c54-4d8b-a1d9-8f9a5b4c3e7f",
      "metadata": {
        "colab": {
          "base_uri": "https://localhost:8080/",
          "height": 218
        },
        "id": "f3b6e42e-3c54-4d8b-a1d9-8f9a5b4c3e7f",
        "outputId": "15d15280-33b5-4b87-9213-de2dd46eef12"
      },
      "outputs": [
        {
          "output_type": "error",
          "ename": "NameError",
          "evalue": "name 'torch' is not defined",
          "traceback": [
            "\u001b[0;31m---------------------------------------------------------------------------\u001b[0m",
            "\u001b[0;31mNameError\u001b[0m                                 Traceback (most recent call last)",
            "\u001b[0;32m<ipython-input-1-582882ad2ec7>\u001b[0m in \u001b[0;36m<cell line: 0>\u001b[0;34m()\u001b[0m\n\u001b[1;32m      1\u001b[0m \u001b[0;31m# Saving the model\u001b[0m\u001b[0;34m\u001b[0m\u001b[0;34m\u001b[0m\u001b[0m\n\u001b[0;32m----> 2\u001b[0;31m \u001b[0mtorch\u001b[0m\u001b[0;34m.\u001b[0m\u001b[0msave\u001b[0m\u001b[0;34m(\u001b[0m\u001b[0mmodel\u001b[0m\u001b[0;34m.\u001b[0m\u001b[0mstate_dict\u001b[0m\u001b[0;34m(\u001b[0m\u001b[0;34m)\u001b[0m\u001b[0;34m,\u001b[0m \u001b[0;34m\"model.pth\"\u001b[0m\u001b[0;34m)\u001b[0m\u001b[0;34m\u001b[0m\u001b[0;34m\u001b[0m\u001b[0m\n\u001b[0m\u001b[1;32m      3\u001b[0m \u001b[0;34m\u001b[0m\u001b[0m\n\u001b[1;32m      4\u001b[0m \u001b[0;31m# Loading the model\u001b[0m\u001b[0;34m\u001b[0m\u001b[0;34m\u001b[0m\u001b[0m\n\u001b[1;32m      5\u001b[0m \u001b[0mmodel_loaded\u001b[0m \u001b[0;34m=\u001b[0m \u001b[0mSimpleMLP\u001b[0m\u001b[0;34m(\u001b[0m\u001b[0minput_dim\u001b[0m\u001b[0;34m=\u001b[0m\u001b[0;36m10\u001b[0m\u001b[0;34m,\u001b[0m \u001b[0mhidden_dim\u001b[0m\u001b[0;34m=\u001b[0m\u001b[0;36m20\u001b[0m\u001b[0;34m,\u001b[0m \u001b[0moutput_dim\u001b[0m\u001b[0;34m=\u001b[0m\u001b[0;36m2\u001b[0m\u001b[0;34m)\u001b[0m\u001b[0;34m\u001b[0m\u001b[0;34m\u001b[0m\u001b[0m\n",
            "\u001b[0;31mNameError\u001b[0m: name 'torch' is not defined"
          ]
        }
      ],
      "source": [
        "# Saving the model\n",
        "torch.save(model.state_dict(), \"model.pth\")\n",
        "\n",
        "# Loading the model\n",
        "model_loaded = SimpleMLP(input_dim=10, hidden_dim=20, output_dim=2)\n",
        "model_loaded.load_state_dict(torch.load(\"model.pth\"))\n",
        "model_loaded.eval()"
      ]
    },
    {
      "cell_type": "markdown",
      "id": "9e8c4f72-1e4f-4aee-8d48-4d9c7c6b2b3f",
      "metadata": {
        "id": "9e8c4f72-1e4f-4aee-8d48-4d9c7c6b2b3f"
      },
      "source": [
        "### 2. Exporting with TorchScript\n",
        "\n",
        "Convert your model to TorchScript for optimized production deployment."
      ]
    },
    {
      "cell_type": "code",
      "execution_count": null,
      "id": "d9f8a6f1-3bfa-4d6c-8f1e-2c7d9e5a3b1c",
      "metadata": {
        "id": "d9f8a6f1-3bfa-4d6c-8f1e-2c7d9e5a3b1c"
      },
      "outputs": [],
      "source": [
        "scripted_model = torch.jit.script(model)\n",
        "scripted_model.save(\"scripted_model.pt\")"
      ]
    },
    {
      "cell_type": "markdown",
      "id": "8b3f9d4a-1f3e-41b6-9f2e-3c8d7e2a1b5e",
      "metadata": {
        "id": "8b3f9d4a-1f3e-41b6-9f2e-3c8d7e2a1b5e"
      },
      "source": [
        "### Exercise\n",
        "\n",
        "- Export a trained model using TorchScript or ONNX.\n",
        "- Build a simple API (using Flask or FastAPI) that loads the model and returns predictions for a given input."
      ]
    },
    {
      "cell_type": "markdown",
      "id": "bb5e1a7c-3f8b-44a4-bc0d-9b0d6f2e7a8f",
      "metadata": {
        "id": "bb5e1a7c-3f8b-44a4-bc0d-9b0d6f2e7a8f"
      },
      "source": [
        "## 7. Final Project and Conclusion\n",
        "\n",
        "### 1. Final Project: Zadanie c.2"
      ]
    },
    {
      "cell_type": "markdown",
      "id": "e3fbd1a2-68ef-4a7d-9a1c-4b1d8f6c3e2a",
      "metadata": {
        "id": "e3fbd1a2-68ef-4a7d-9a1c-4b1d8f6c3e2a"
      },
      "source": [
        "### 2. Conclusion and Further Resources\n",
        "\n",
        "- **Recap:** This notebook has guided you from the basics of PyTorch to building and deploying a neural network.\n",
        "- **Further Reading:**\n",
        "  - [Official PyTorch Tutorials](https://pytorch.org/tutorials/)\n",
        "  - [PyTorch Documentation](https://pytorch.org/docs/stable/index.html)\n",
        "  - [Deep Learning with PyTorch: A 60 Minute Blitz](https://pytorch.org/tutorials/beginner/deep_learning_60min_blitz.html)\n",
        "  - [PyTorch Beginner Tutorial](https://www.youtube.com/watch?v=EMXfZB8FVUA&list=PLqnslRFeH2UrcDBWF5mfPGpqQDSta6VK4)"
      ]
    }
  ],
  "metadata": {
    "kernelspec": {
      "display_name": "Python 3",
      "language": "python",
      "name": "python3"
    },
    "language_info": {
      "name": "python",
      "version": "3.x"
    },
    "colab": {
      "provenance": []
    }
  },
  "nbformat": 4,
  "nbformat_minor": 5
}