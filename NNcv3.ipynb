{
 "cells": [
  {
   "cell_type": "markdown",
   "metadata": {},
   "source": [
    "## 1. Import knižníc"
   ]
  },
  {
   "cell_type": "code",
   "metadata": {},
   "source": [
    "import numpy as np\n",
    "np.random.seed(42)\n",
    "\n",
    "# Ďalšie importy podľa potreby\n",
    "# import matplotlib.pyplot as plt  # napr. na vizualizáciu"
   ],
   "execution_count": null,
   "outputs": []
  },
  {
   "cell_type": "markdown",
   "metadata": {},
   "source": [
    "## 2. Základná trieda `Layer`\n",
    "Každá vrstva v sieti by mala vedieť vykonať:\n",
    "1. **Forward** prechod (predikcia)\n",
    "2. **Backward** prechod (výpočet gradientov a aktualizácia váh)\n",
    "\n",
    "Tu definujeme všeobecnú triedu `Layer`, ktorú budú ostatné vrstvy dediť."
   ]
  },
  {
   "cell_type": "code",
   "metadata": {},
   "source": [
    "class Layer:\n",
    "    \"\"\"\n",
    "    Všeobecná trieda vrstvy v neurónovej sieti.\n",
    "    Každá vrstva musí mať:\n",
    "    - forward(self, inp)\n",
    "    - backward(self, inp, grad_outp)\n",
    "    \"\"\"\n",
    "    def __init__(self):\n",
    "        pass\n",
    "\n",
    "    def forward(self, inp):\n",
    "        # TODO: Vráťte dopredný prechod (napr. inp pre \"dummy\" vrstvu)\n",
    "        return inp\n",
    "\n",
    "    def backward(self, inp, grad_outp):\n",
    "        # TODO: Vypočítajte gradient vzhľadom na parametre a/alebo vstup\n",
    "        pass\n"
   ],
   "execution_count": null,
   "outputs": []
  },
  {
   "cell_type": "markdown",
   "metadata": {},
   "source": [
    "## 3. Aktivačné funkcie\n",
    "Definujeme `ReLU` a `Sigmoid` ako špeciálne vrstvy dediace z triedy `Layer`."
   ]
  },
  {
   "cell_type": "code",
   "metadata": {},
   "source": [
    "class ReLU(Layer):\n",
    "    def __init__(self):\n",
    "        super().__init__()\n",
    "\n",
    "    def forward(self, inp):\n",
    "        # TODO: Vráťte np.maximum(0, inp)\n",
    "        return 0.0  # Dummy\n",
    "\n",
    "    def backward(self, inp, grad_outp):\n",
    "        # TODO: Vypočítajte gradient reťazovým pravidlom\n",
    "        # deriv(ReLU) = 1 ak inp > 0, inak 0\n",
    "        pass\n",
    "\n",
    "\n",
    "class Sigmoid(Layer):\n",
    "    def __init__(self):\n",
    "        super().__init__()\n",
    "\n",
    "    def forward(self, inp):\n",
    "        # TODO: sigmoid = 1 / (1 + e^-x)\n",
    "        return 0.0  # Dummy\n",
    "\n",
    "    def backward(self, inp, grad_outp):\n",
    "        # TODO: deriv(sigmoid) = sigmoid(x) * (1 - sigmoid(x))\n",
    "        pass\n"
   ],
   "execution_count": null,
   "outputs": []
  },
  {
   "cell_type": "markdown",
   "metadata": {},
   "source": [
    "## 4. Hustá (Dense) vrstva\n",
    "Táto vrstva má parametre (váhy `W` a biasy `b`) a vykonáva výpočet lineárnej transformácie: \\( z = xW + b \\)."
   ]
  },
  {
   "cell_type": "code",
   "metadata": {},
   "source": [
    "class Dense(Layer):\n",
    "    def __init__(self, inp_units, outp_units, learning_rate=0.1):\n",
    "        super().__init__()\n",
    "        self.lr = learning_rate\n",
    "        # TODO: Inicializácia W a b\n",
    "        # Napr. malými náhodnými číslami\n",
    "        pass\n",
    "\n",
    "    def forward(self, inp):\n",
    "        # TODO: Výpočet lineárnej transformácie\n",
    "        # z = inp @ W + b\n",
    "        return 0.0  # Dummy\n",
    "\n",
    "    def backward(self, inp, grad_outp):\n",
    "        # TODO: \n",
    "        # 1) Vypočítať gradient dW, db\n",
    "        # 2) Upraviť W, b -> W -= lr * dW\n",
    "        # 3) Vrátiť gradient smerom k vstupu = grad_outp @ W^T\n",
    "        pass\n"
   ],
   "execution_count": null,
   "outputs": []
  },
  {
   "cell_type": "markdown",
   "metadata": {},
   "source": [
    "## 5. Samotná trieda MLP\n",
    "Obsahuje niekoľko vrstiev (Dense + aktivačné), podporuje:\n",
    "- `add_layer(...)` na pridanie novej vrstvy\n",
    "- `forward(X)` na dopredný prechod celou sieťou\n",
    "- `predict(X)` na predikciu\n",
    "- `fit(X, y)` na natrénovanie siete"
   ]
  },
  {
   "cell_type": "code",
   "metadata": {},
   "source": [
    "class MLP:\n",
    "    def __init__(self):\n",
    "        self.layers = []  # Zoznam vrstiev\n",
    "\n",
    "    def add_layer(self, neuron_count, inp_shape=None, activation='ReLU', learning_rate=0.1):\n",
    "        \"\"\"Pridá Dense vrstvu + voliteľnú aktivačnú vrstvu.\"\"\"\n",
    "        # TODO:\n",
    "        # 1) Ak inp_shape je None, zistíme ju až pri forward-e, \n",
    "        #    inak vytvorte Dense vrstvu s (inp_shape, neuron_count)\n",
    "        # 2) Podľa parametra activation pridajte ReLU alebo Sigmoid vrstvu\n",
    "        pass\n",
    "\n",
    "    def forward(self, X):\n",
    "        \"\"\"Prechádza postupne všetky vrstvy v sieti.\"\"\"\n",
    "        # TODO: Ukladajte si výstup pre každý krok = inp nasledujúcej vrstvy\n",
    "        activations = []\n",
    "        return activations\n",
    "\n",
    "    def predict(self, X):\n",
    "        \"\"\"Vráti výstup z poslednej vrstvy (napr. pravdepodobnosti alebo logity).\"\"\"\n",
    "        # TODO: Zavolajte forward a vráťte posledný výstup\n",
    "        return 0.0\n",
    "\n",
    "    def fit(self, X, y, epochs=10):\n",
    "        \"\"\"Tréning siete.\"\"\"\n",
    "        # TODO:\n",
    "        # 1) Pre každý epoch:\n",
    "        #    - forward\n",
    "        #    - backward (postupne od poslednej vrstvy k prvej)\n",
    "        pass\n"
   ],
   "execution_count": null,
   "outputs": []
  },
  {
   "cell_type": "markdown",
   "metadata": {},
   "source": [
    "## 6. Testovacia časť (main)\n",
    "Po doplnení všetkých TODO bude možné sieť vytvoriť, pridať vrstvy a volať metódy `predict(...)` či `fit(...)`."
   ]
  },
  {
   "cell_type": "code",
   "metadata": {},
   "source": [
    "if __name__ == \"__main__\":\n",
    "    # Dummy test\n",
    "    test = [[10, 20, 30], [-5, 0, 2]]\n",
    "    test = np.array(test)\n",
    "\n",
    "    network = MLP()\n",
    "    \n",
    "    # TODO: add_layer\n",
    "    # Pridajte napr. Dense(3->2) + ReLU, atď.\n",
    "    # network.add_layer(neuron_count=2, inp_shape=3, activation='ReLU')\n",
    "\n",
    "    # Test predict\n",
    "    output = network.predict(test)\n",
    "    print(\"Výstup siete:\", output)\n",
    "\n",
    "    # Prípadne fit s nejakými malými údajmi\n",
    "    # network.fit(X=..., y=..., epochs=100)\n",
    "    # test_predictions = network.predict(X_test)\n",
    "    # print(\"Predikcie:\", test_predictions)\n"
   ],
   "execution_count": null,
   "outputs": []
  },
  {
   "cell_type": "markdown",
   "metadata": {},
   "source": [
    "## Inštrukcie\n",
    "- **Doplňte** chýbajúce implementačné detaily v jednotlivých triedach.\n",
    "- Otestujte (vlastné prípady alebo doplňte `network.fit(...)`).\n",
    "- Rozšírte podľa potreby (viac vrstiev, iné aktivačné funkcie).\n",
    "\n",
    "Po úspešnom doplnení by ste mali byť schopní vytvoriť sieť, natrénovať ju na malej množine dát a predpovedať.\n"
   ]
  }
 ],
 "metadata": {
  "kernelspec": {
   "display_name": "Python 3",
   "language": "python",
   "name": "python3"
  },
  "language_info": {
   "name": "python",
   "version": "3.8"
  }
 },
 "nbformat": 4,
 "nbformat_minor": 5
}
